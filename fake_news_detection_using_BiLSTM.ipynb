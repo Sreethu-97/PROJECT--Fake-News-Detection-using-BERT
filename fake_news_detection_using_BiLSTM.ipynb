{
  "cells": [
    {
      "cell_type": "code",
      "source": [
        "import os\n",
        "import sys\n",
        "import math\n",
        "import pandas as pd\n",
        "import numpy as np\n",
        "import tensorflow as tf\n",
        "import matplotlib.pyplot as plt\n",
        "import seaborn as sns\n",
        "import tensorflow as tf\n",
        "import matplotlib.patches as mpatches\n",
        "import nltk\n",
        "\n",
        "from nltk.corpus import stopwords\n",
        "from sklearn.model_selection import train_test_split\n",
        "from sklearn.preprocessing import LabelEncoder\n",
        "from tensorflow.keras.models import Model\n",
        "from tensorflow.keras.layers import Bidirectional, LSTM, Activation, Dense, Dropout, Input, Embedding\n",
        "from tensorflow.keras.optimizers import RMSprop\n",
        "from tensorflow.keras.preprocessing.text import Tokenizer\n",
        "from tensorflow.keras.preprocessing import sequence\n",
        "from tensorflow.keras.utils import to_categorical\n",
        "from tensorflow.keras.callbacks import EarlyStopping"
      ],
      "metadata": {
        "id": "PVpywm9u3EY0"
      },
      "execution_count": null,
      "outputs": []
    },
    {
      "cell_type": "code",
      "source": [
        "train_df = pd.read_csv('../content/train.tsv', delimiter='\\t', header = None)\n",
        "valid_df = pd.read_csv('../content/valid.tsv', delimiter='\\t', header = None)\n",
        "test_df = pd.read_csv('../content/test.tsv', delimiter='\\t', header = None)"
      ],
      "metadata": {
        "id": "8OSKSjuV3O7G"
      },
      "execution_count": null,
      "outputs": []
    },
    {
      "cell_type": "code",
      "source": [
        "test_df.head()"
      ],
      "metadata": {
        "id": "jz7jzFJz4QMO",
        "outputId": "5cf30f59-092d-4885-accb-468c66cd0d05",
        "colab": {
          "base_uri": "https://localhost:8080/",
          "height": 739
        }
      },
      "execution_count": null,
      "outputs": [
        {
          "output_type": "execute_result",
          "data": {
            "text/html": [
              "\n",
              "  <div id=\"df-2a0750e4-4580-4a34-bc3a-2f4ad48f447a\">\n",
              "    <div class=\"colab-df-container\">\n",
              "      <div>\n",
              "<style scoped>\n",
              "    .dataframe tbody tr th:only-of-type {\n",
              "        vertical-align: middle;\n",
              "    }\n",
              "\n",
              "    .dataframe tbody tr th {\n",
              "        vertical-align: top;\n",
              "    }\n",
              "\n",
              "    .dataframe thead th {\n",
              "        text-align: right;\n",
              "    }\n",
              "</style>\n",
              "<table border=\"1\" class=\"dataframe\">\n",
              "  <thead>\n",
              "    <tr style=\"text-align: right;\">\n",
              "      <th></th>\n",
              "      <th>0</th>\n",
              "      <th>1</th>\n",
              "      <th>2</th>\n",
              "      <th>3</th>\n",
              "      <th>4</th>\n",
              "      <th>5</th>\n",
              "      <th>6</th>\n",
              "      <th>7</th>\n",
              "      <th>8</th>\n",
              "      <th>9</th>\n",
              "      <th>10</th>\n",
              "      <th>11</th>\n",
              "      <th>12</th>\n",
              "      <th>13</th>\n",
              "    </tr>\n",
              "  </thead>\n",
              "  <tbody>\n",
              "    <tr>\n",
              "      <th>0</th>\n",
              "      <td>11972.json</td>\n",
              "      <td>true</td>\n",
              "      <td>Building a wall on the U.S.-Mexico border will...</td>\n",
              "      <td>immigration</td>\n",
              "      <td>rick-perry</td>\n",
              "      <td>Governor</td>\n",
              "      <td>Texas</td>\n",
              "      <td>republican</td>\n",
              "      <td>30</td>\n",
              "      <td>30</td>\n",
              "      <td>42</td>\n",
              "      <td>23</td>\n",
              "      <td>18</td>\n",
              "      <td>Radio interview</td>\n",
              "    </tr>\n",
              "    <tr>\n",
              "      <th>1</th>\n",
              "      <td>11685.json</td>\n",
              "      <td>false</td>\n",
              "      <td>Wisconsin is on pace to double the number of l...</td>\n",
              "      <td>jobs</td>\n",
              "      <td>katrina-shankland</td>\n",
              "      <td>State representative</td>\n",
              "      <td>Wisconsin</td>\n",
              "      <td>democrat</td>\n",
              "      <td>2</td>\n",
              "      <td>1</td>\n",
              "      <td>0</td>\n",
              "      <td>0</td>\n",
              "      <td>0</td>\n",
              "      <td>a news conference</td>\n",
              "    </tr>\n",
              "    <tr>\n",
              "      <th>2</th>\n",
              "      <td>11096.json</td>\n",
              "      <td>false</td>\n",
              "      <td>Says John McCain has done nothing to help the ...</td>\n",
              "      <td>military,veterans,voting-record</td>\n",
              "      <td>donald-trump</td>\n",
              "      <td>President-Elect</td>\n",
              "      <td>New York</td>\n",
              "      <td>republican</td>\n",
              "      <td>63</td>\n",
              "      <td>114</td>\n",
              "      <td>51</td>\n",
              "      <td>37</td>\n",
              "      <td>61</td>\n",
              "      <td>comments on ABC's This Week.</td>\n",
              "    </tr>\n",
              "    <tr>\n",
              "      <th>3</th>\n",
              "      <td>5209.json</td>\n",
              "      <td>half-true</td>\n",
              "      <td>Suzanne Bonamici supports a plan that will cut...</td>\n",
              "      <td>medicare,message-machine-2012,campaign-adverti...</td>\n",
              "      <td>rob-cornilles</td>\n",
              "      <td>consultant</td>\n",
              "      <td>Oregon</td>\n",
              "      <td>republican</td>\n",
              "      <td>1</td>\n",
              "      <td>1</td>\n",
              "      <td>3</td>\n",
              "      <td>1</td>\n",
              "      <td>1</td>\n",
              "      <td>a radio show</td>\n",
              "    </tr>\n",
              "    <tr>\n",
              "      <th>4</th>\n",
              "      <td>9524.json</td>\n",
              "      <td>pants-fire</td>\n",
              "      <td>When asked by a reporter whether hes at the ce...</td>\n",
              "      <td>campaign-finance,legal-issues,campaign-adverti...</td>\n",
              "      <td>state-democratic-party-wisconsin</td>\n",
              "      <td>NaN</td>\n",
              "      <td>Wisconsin</td>\n",
              "      <td>democrat</td>\n",
              "      <td>5</td>\n",
              "      <td>7</td>\n",
              "      <td>2</td>\n",
              "      <td>2</td>\n",
              "      <td>7</td>\n",
              "      <td>a web video</td>\n",
              "    </tr>\n",
              "  </tbody>\n",
              "</table>\n",
              "</div>\n",
              "      <button class=\"colab-df-convert\" onclick=\"convertToInteractive('df-2a0750e4-4580-4a34-bc3a-2f4ad48f447a')\"\n",
              "              title=\"Convert this dataframe to an interactive table.\"\n",
              "              style=\"display:none;\">\n",
              "        \n",
              "  <svg xmlns=\"http://www.w3.org/2000/svg\" height=\"24px\"viewBox=\"0 0 24 24\"\n",
              "       width=\"24px\">\n",
              "    <path d=\"M0 0h24v24H0V0z\" fill=\"none\"/>\n",
              "    <path d=\"M18.56 5.44l.94 2.06.94-2.06 2.06-.94-2.06-.94-.94-2.06-.94 2.06-2.06.94zm-11 1L8.5 8.5l.94-2.06 2.06-.94-2.06-.94L8.5 2.5l-.94 2.06-2.06.94zm10 10l.94 2.06.94-2.06 2.06-.94-2.06-.94-.94-2.06-.94 2.06-2.06.94z\"/><path d=\"M17.41 7.96l-1.37-1.37c-.4-.4-.92-.59-1.43-.59-.52 0-1.04.2-1.43.59L10.3 9.45l-7.72 7.72c-.78.78-.78 2.05 0 2.83L4 21.41c.39.39.9.59 1.41.59.51 0 1.02-.2 1.41-.59l7.78-7.78 2.81-2.81c.8-.78.8-2.07 0-2.86zM5.41 20L4 18.59l7.72-7.72 1.47 1.35L5.41 20z\"/>\n",
              "  </svg>\n",
              "      </button>\n",
              "      \n",
              "  <style>\n",
              "    .colab-df-container {\n",
              "      display:flex;\n",
              "      flex-wrap:wrap;\n",
              "      gap: 12px;\n",
              "    }\n",
              "\n",
              "    .colab-df-convert {\n",
              "      background-color: #E8F0FE;\n",
              "      border: none;\n",
              "      border-radius: 50%;\n",
              "      cursor: pointer;\n",
              "      display: none;\n",
              "      fill: #1967D2;\n",
              "      height: 32px;\n",
              "      padding: 0 0 0 0;\n",
              "      width: 32px;\n",
              "    }\n",
              "\n",
              "    .colab-df-convert:hover {\n",
              "      background-color: #E2EBFA;\n",
              "      box-shadow: 0px 1px 2px rgba(60, 64, 67, 0.3), 0px 1px 3px 1px rgba(60, 64, 67, 0.15);\n",
              "      fill: #174EA6;\n",
              "    }\n",
              "\n",
              "    [theme=dark] .colab-df-convert {\n",
              "      background-color: #3B4455;\n",
              "      fill: #D2E3FC;\n",
              "    }\n",
              "\n",
              "    [theme=dark] .colab-df-convert:hover {\n",
              "      background-color: #434B5C;\n",
              "      box-shadow: 0px 1px 3px 1px rgba(0, 0, 0, 0.15);\n",
              "      filter: drop-shadow(0px 1px 2px rgba(0, 0, 0, 0.3));\n",
              "      fill: #FFFFFF;\n",
              "    }\n",
              "  </style>\n",
              "\n",
              "      <script>\n",
              "        const buttonEl =\n",
              "          document.querySelector('#df-2a0750e4-4580-4a34-bc3a-2f4ad48f447a button.colab-df-convert');\n",
              "        buttonEl.style.display =\n",
              "          google.colab.kernel.accessAllowed ? 'block' : 'none';\n",
              "\n",
              "        async function convertToInteractive(key) {\n",
              "          const element = document.querySelector('#df-2a0750e4-4580-4a34-bc3a-2f4ad48f447a');\n",
              "          const dataTable =\n",
              "            await google.colab.kernel.invokeFunction('convertToInteractive',\n",
              "                                                     [key], {});\n",
              "          if (!dataTable) return;\n",
              "\n",
              "          const docLinkHtml = 'Like what you see? Visit the ' +\n",
              "            '<a target=\"_blank\" href=https://colab.research.google.com/notebooks/data_table.ipynb>data table notebook</a>'\n",
              "            + ' to learn more about interactive tables.';\n",
              "          element.innerHTML = '';\n",
              "          dataTable['output_type'] = 'display_data';\n",
              "          await google.colab.output.renderOutput(dataTable, element);\n",
              "          const docLink = document.createElement('div');\n",
              "          docLink.innerHTML = docLinkHtml;\n",
              "          element.appendChild(docLink);\n",
              "        }\n",
              "      </script>\n",
              "    </div>\n",
              "  </div>\n",
              "  "
            ],
            "text/plain": [
              "           0           1   ...  12                            13\n",
              "0  11972.json        true  ...  18               Radio interview\n",
              "1  11685.json       false  ...   0             a news conference\n",
              "2  11096.json       false  ...  61  comments on ABC's This Week.\n",
              "3   5209.json   half-true  ...   1                  a radio show\n",
              "4   9524.json  pants-fire  ...   7                   a web video\n",
              "\n",
              "[5 rows x 14 columns]"
            ]
          },
          "metadata": {},
          "execution_count": 3
        }
      ]
    },
    {
      "cell_type": "code",
      "source": [
        "def map_f(x):\n",
        "    if x=='mostly-true' or x == 'true':\n",
        "        return 0\n",
        "    else:\n",
        "        return 1\n",
        "    \n",
        "train = pd.DataFrame()\n",
        "valid = pd.DataFrame()\n",
        "test = pd.DataFrame()\n",
        "\n",
        "train['text'] = train_df[2]\n",
        "train['label'] = train_df[1].apply(map_f)\n",
        "\n",
        "valid['text'] = valid_df[2]\n",
        "valid['label'] = valid_df[1].apply(map_f)\n",
        "\n",
        "test['text'] = train_df[2]\n",
        "test['label'] = test_df[1].apply(map_f)"
      ],
      "metadata": {
        "id": "SXLCdzSP4Yg5"
      },
      "execution_count": null,
      "outputs": []
    },
    {
      "cell_type": "code",
      "source": [
        "len(train), len(valid), len(test)"
      ],
      "metadata": {
        "id": "avnWz-7M4gsF",
        "outputId": "8775c6cc-bd16-4f81-936f-82e09f433d0b",
        "colab": {
          "base_uri": "https://localhost:8080/"
        }
      },
      "execution_count": null,
      "outputs": [
        {
          "output_type": "execute_result",
          "data": {
            "text/plain": [
              "(10240, 1284, 10240)"
            ]
          },
          "metadata": {},
          "execution_count": 5
        }
      ]
    },
    {
      "cell_type": "code",
      "source": [
        "X_train = pd.concat([train, valid])['text']\n",
        "Y_train = pd.concat([train, valid])['label']\n",
        "X_test = test['text']\n",
        "Y_test = test['label']"
      ],
      "metadata": {
        "id": "rFdCwAoQ4lgU"
      },
      "execution_count": null,
      "outputs": []
    },
    {
      "cell_type": "code",
      "source": [
        "sns.countplot(Y_train)\n",
        "plt.xlabel('Label')\n",
        "plt.title('Number of real and fake news')"
      ],
      "metadata": {
        "id": "aJhUYPuz4qR0",
        "outputId": "3876313d-0498-4c2c-9527-ff1b450e38b3",
        "colab": {
          "base_uri": "https://localhost:8080/",
          "height": 370
        }
      },
      "execution_count": null,
      "outputs": [
        {
          "output_type": "stream",
          "name": "stderr",
          "text": [
            "/usr/local/lib/python3.7/dist-packages/seaborn/_decorators.py:43: FutureWarning: Pass the following variable as a keyword arg: x. From version 0.12, the only valid positional argument will be `data`, and passing other arguments without an explicit keyword will result in an error or misinterpretation.\n",
            "  FutureWarning\n"
          ]
        },
        {
          "output_type": "execute_result",
          "data": {
            "text/plain": [
              "Text(0.5, 1.0, 'Number of real and fake news')"
            ]
          },
          "metadata": {},
          "execution_count": 7
        },
        {
          "output_type": "display_data",
          "data": {
            "image/png": "[encoded data removed]",
            "text/plain": [
              "<Figure size 432x288 with 1 Axes>"
            ]
          },
          "metadata": {
            "needs_background": "light"
          }
        }
      ]
    },
    {
      "cell_type": "code",
      "source": [
        "max_words = 1000\n",
        "max_len = 150\n",
        "tok = Tokenizer(num_words=max_words)\n",
        "tok.fit_on_texts(X_train)\n",
        "sequences = tok.texts_to_sequences(X_train)\n",
        "sequences_matrix = sequence.pad_sequences(sequences,maxlen=max_len)"
      ],
      "metadata": {
        "id": "3fHMu3Tm4uyZ"
      },
      "execution_count": null,
      "outputs": []
    },
    {
      "cell_type": "code",
      "source": [
        "def BiLSTM():\n",
        "  inputs = Input(name='inputs',shape=[max_len])\n",
        "  layer = Embedding(max_words,50,input_length=max_len)(inputs)\n",
        "  layer = Bidirectional(LSTM(64))(layer)\n",
        "  layer = Dense(256,name='FC1')(layer)\n",
        "  layer = Activation('relu')(layer)\n",
        "  layer = Dropout(0.5)(layer)\n",
        "  layer = Dense(1,name='out_layer')(layer)\n",
        "  layer = Activation('sigmoid')(layer)\n",
        "  model = Model(inputs=inputs,outputs=layer)\n",
        "  return model"
      ],
      "metadata": {
        "id": "5sAUYD1m42IU"
      },
      "execution_count": null,
      "outputs": []
    },
    {
      "cell_type": "code",
      "source": [
        "model = BiLSTM()\n",
        "model.summary()\n",
        "model.compile(loss='binary_crossentropy',optimizer=RMSprop(),metrics=['accuracy'])"
      ],
      "metadata": {
        "id": "QYO6rPBL5Eqt",
        "outputId": "a35320d2-e26e-4a7d-f079-8894c1bf46a1",
        "colab": {
          "base_uri": "https://localhost:8080/"
        }
      },
      "execution_count": null,
      "outputs": [
        {
          "output_type": "stream",
          "name": "stdout",
          "text": [
            "Model: \"model\"\n",
            "_________________________________________________________________\n",
            " Layer (type)                Output Shape              Param #   \n",
            "=================================================================\n",
            " inputs (InputLayer)         [(None, 150)]             0         \n",
            "                                                                 \n",
            " embedding (Embedding)       (None, 150, 50)           50000     \n",
            "                                                                 \n",
            " bidirectional (Bidirectiona  (None, 128)              58880     \n",
            " l)                                                              \n",
            "                                                                 \n",
            " FC1 (Dense)                 (None, 256)               33024     \n",
            "                                                                 \n",
            " activation (Activation)     (None, 256)               0         \n",
            "                                                                 \n",
            " dropout (Dropout)           (None, 256)               0         \n",
            "                                                                 \n",
            " out_layer (Dense)           (None, 1)                 257       \n",
            "                                                                 \n",
            " activation_1 (Activation)   (None, 1)                 0         \n",
            "                                                                 \n",
            "=================================================================\n",
            "Total params: 142,161\n",
            "Trainable params: 142,161\n",
            "Non-trainable params: 0\n",
            "_________________________________________________________________\n"
          ]
        }
      ]
    },
    {
      "cell_type": "code",
      "source": [
        "model.fit(sequences_matrix,Y_train,batch_size=128,epochs=100,validation_split=0.2)"
      ],
      "metadata": {
        "id": "JN1DMGxo5I0n",
        "outputId": "9ec8c5f8-14ff-4f59-f0e6-eac7b65d4cb0",
        "colab": {
          "base_uri": "https://localhost:8080/"
        }
      },
      "execution_count": null,
      "outputs": [
        {
          "output_type": "stream",
          "name": "stdout",
          "text": [
            "Epoch 1/100\n",
            "73/73 [==============================] - 6s 79ms/step - loss: 0.0214 - accuracy: 0.9948 - val_loss: 9.1963 - val_accuracy: 0.5852\n",
            "Epoch 2/100\n",
            "73/73 [==============================] - 6s 78ms/step - loss: 0.0195 - accuracy: 0.9944 - val_loss: 8.4130 - val_accuracy: 0.5844\n",
            "Epoch 3/100\n",
            "73/73 [==============================] - 6s 78ms/step - loss: 0.0203 - accuracy: 0.9952 - val_loss: 8.5184 - val_accuracy: 0.5770\n",
            "Epoch 4/100\n",
            "73/73 [==============================] - 6s 78ms/step - loss: 0.0137 - accuracy: 0.9969 - val_loss: 8.5929 - val_accuracy: 0.5883\n",
            "Epoch 5/100\n",
            "73/73 [==============================] - 6s 78ms/step - loss: 0.0179 - accuracy: 0.9959 - val_loss: 8.7333 - val_accuracy: 0.5900\n",
            "Epoch 6/100\n",
            "73/73 [==============================] - 6s 78ms/step - loss: 0.0083 - accuracy: 0.9973 - val_loss: 9.5218 - val_accuracy: 0.5787\n",
            "Epoch 7/100\n",
            "73/73 [==============================] - 6s 78ms/step - loss: 0.0185 - accuracy: 0.9956 - val_loss: 9.3917 - val_accuracy: 0.5931\n",
            "Epoch 8/100\n",
            "73/73 [==============================] - 6s 78ms/step - loss: 0.0157 - accuracy: 0.9959 - val_loss: 9.7129 - val_accuracy: 0.5735\n",
            "Epoch 9/100\n",
            "73/73 [==============================] - 6s 78ms/step - loss: 0.0145 - accuracy: 0.9966 - val_loss: 9.1466 - val_accuracy: 0.5857\n",
            "Epoch 10/100\n",
            "73/73 [==============================] - 6s 78ms/step - loss: 0.0170 - accuracy: 0.9952 - val_loss: 9.3731 - val_accuracy: 0.5918\n",
            "Epoch 11/100\n",
            "73/73 [==============================] - 6s 77ms/step - loss: 0.0166 - accuracy: 0.9961 - val_loss: 9.6885 - val_accuracy: 0.5944\n",
            "Epoch 12/100\n",
            "73/73 [==============================] - 6s 78ms/step - loss: 0.0192 - accuracy: 0.9954 - val_loss: 9.3324 - val_accuracy: 0.5926\n",
            "Epoch 13/100\n",
            "73/73 [==============================] - 6s 78ms/step - loss: 0.0148 - accuracy: 0.9962 - val_loss: 9.6457 - val_accuracy: 0.5861\n",
            "Epoch 14/100\n",
            "73/73 [==============================] - 6s 78ms/step - loss: 0.0235 - accuracy: 0.9960 - val_loss: 8.6846 - val_accuracy: 0.5978\n",
            "Epoch 15/100\n",
            "73/73 [==============================] - 6s 78ms/step - loss: 0.0156 - accuracy: 0.9957 - val_loss: 9.0542 - val_accuracy: 0.5844\n",
            "Epoch 16/100\n",
            "73/73 [==============================] - 6s 78ms/step - loss: 0.0127 - accuracy: 0.9961 - val_loss: 9.1819 - val_accuracy: 0.5874\n",
            "Epoch 17/100\n",
            "73/73 [==============================] - 6s 78ms/step - loss: 0.0127 - accuracy: 0.9962 - val_loss: 10.2168 - val_accuracy: 0.5839\n",
            "Epoch 18/100\n",
            "73/73 [==============================] - 6s 78ms/step - loss: 0.0105 - accuracy: 0.9971 - val_loss: 9.2550 - val_accuracy: 0.5783\n",
            "Epoch 19/100\n",
            "73/73 [==============================] - 6s 78ms/step - loss: 0.0131 - accuracy: 0.9964 - val_loss: 9.8180 - val_accuracy: 0.5787\n",
            "Epoch 20/100\n",
            "73/73 [==============================] - 6s 78ms/step - loss: 0.0149 - accuracy: 0.9969 - val_loss: 10.0075 - val_accuracy: 0.5796\n",
            "Epoch 21/100\n",
            "73/73 [==============================] - 6s 78ms/step - loss: 0.0140 - accuracy: 0.9964 - val_loss: 9.9722 - val_accuracy: 0.5813\n",
            "Epoch 22/100\n",
            "73/73 [==============================] - 6s 78ms/step - loss: 0.0153 - accuracy: 0.9965 - val_loss: 10.1361 - val_accuracy: 0.5796\n",
            "Epoch 23/100\n",
            "73/73 [==============================] - 6s 77ms/step - loss: 0.0120 - accuracy: 0.9970 - val_loss: 9.6801 - val_accuracy: 0.5757\n",
            "Epoch 24/100\n",
            "73/73 [==============================] - 6s 78ms/step - loss: 0.0134 - accuracy: 0.9960 - val_loss: 10.2525 - val_accuracy: 0.5822\n",
            "Epoch 25/100\n",
            "73/73 [==============================] - 6s 78ms/step - loss: 0.0218 - accuracy: 0.9957 - val_loss: 9.9293 - val_accuracy: 0.5813\n",
            "Epoch 26/100\n",
            "73/73 [==============================] - 6s 78ms/step - loss: 0.0150 - accuracy: 0.9964 - val_loss: 9.8924 - val_accuracy: 0.5792\n",
            "Epoch 27/100\n",
            "73/73 [==============================] - 6s 78ms/step - loss: 0.0111 - accuracy: 0.9970 - val_loss: 10.2874 - val_accuracy: 0.5805\n",
            "Epoch 28/100\n",
            "73/73 [==============================] - 6s 78ms/step - loss: 0.0150 - accuracy: 0.9964 - val_loss: 10.4969 - val_accuracy: 0.5727\n",
            "Epoch 29/100\n",
            "73/73 [==============================] - 6s 78ms/step - loss: 0.0124 - accuracy: 0.9965 - val_loss: 9.8054 - val_accuracy: 0.5779\n",
            "Epoch 30/100\n",
            "73/73 [==============================] - 6s 78ms/step - loss: 0.0131 - accuracy: 0.9956 - val_loss: 10.2525 - val_accuracy: 0.5792\n",
            "Epoch 31/100\n",
            "73/73 [==============================] - 6s 77ms/step - loss: 0.0128 - accuracy: 0.9972 - val_loss: 11.0076 - val_accuracy: 0.5800\n",
            "Epoch 32/100\n",
            "73/73 [==============================] - 6s 78ms/step - loss: 0.0153 - accuracy: 0.9966 - val_loss: 10.6836 - val_accuracy: 0.5783\n",
            "Epoch 33/100\n",
            "73/73 [==============================] - 6s 78ms/step - loss: 0.0120 - accuracy: 0.9972 - val_loss: 10.7442 - val_accuracy: 0.5783\n",
            "Epoch 34/100\n",
            "73/73 [==============================] - 6s 78ms/step - loss: 0.0158 - accuracy: 0.9951 - val_loss: 10.7619 - val_accuracy: 0.5718\n",
            "Epoch 35/100\n",
            "73/73 [==============================] - 6s 78ms/step - loss: 0.0120 - accuracy: 0.9969 - val_loss: 10.0650 - val_accuracy: 0.5883\n",
            "Epoch 36/100\n",
            "73/73 [==============================] - 6s 78ms/step - loss: 0.0119 - accuracy: 0.9966 - val_loss: 10.3356 - val_accuracy: 0.5792\n",
            "Epoch 37/100\n",
            "73/73 [==============================] - 6s 78ms/step - loss: 0.0135 - accuracy: 0.9961 - val_loss: 10.9246 - val_accuracy: 0.5883\n",
            "Epoch 38/100\n",
            "73/73 [==============================] - 6s 78ms/step - loss: 0.0108 - accuracy: 0.9970 - val_loss: 10.8094 - val_accuracy: 0.5926\n",
            "Epoch 39/100\n",
            "73/73 [==============================] - 6s 78ms/step - loss: 0.0129 - accuracy: 0.9965 - val_loss: 10.9535 - val_accuracy: 0.5813\n",
            "Epoch 40/100\n",
            "73/73 [==============================] - 6s 78ms/step - loss: 0.0163 - accuracy: 0.9962 - val_loss: 9.9931 - val_accuracy: 0.5883\n",
            "Epoch 41/100\n",
            "73/73 [==============================] - 6s 78ms/step - loss: 0.0177 - accuracy: 0.9964 - val_loss: 10.5876 - val_accuracy: 0.5787\n",
            "Epoch 42/100\n",
            "73/73 [==============================] - 6s 78ms/step - loss: 0.0091 - accuracy: 0.9973 - val_loss: 10.2127 - val_accuracy: 0.5831\n",
            "Epoch 43/100\n",
            "73/73 [==============================] - 6s 78ms/step - loss: 0.0109 - accuracy: 0.9971 - val_loss: 10.5961 - val_accuracy: 0.5787\n",
            "Epoch 44/100\n",
            "73/73 [==============================] - 6s 78ms/step - loss: 0.0139 - accuracy: 0.9971 - val_loss: 10.5239 - val_accuracy: 0.5874\n",
            "Epoch 45/100\n",
            "73/73 [==============================] - 6s 78ms/step - loss: 0.0155 - accuracy: 0.9970 - val_loss: 10.6244 - val_accuracy: 0.5870\n",
            "Epoch 46/100\n",
            "73/73 [==============================] - 6s 79ms/step - loss: 0.0101 - accuracy: 0.9975 - val_loss: 10.4622 - val_accuracy: 0.5831\n",
            "Epoch 47/100\n",
            "73/73 [==============================] - 6s 78ms/step - loss: 0.0073 - accuracy: 0.9974 - val_loss: 10.8556 - val_accuracy: 0.5883\n",
            "Epoch 48/100\n",
            "73/73 [==============================] - 6s 78ms/step - loss: 0.0127 - accuracy: 0.9966 - val_loss: 10.7383 - val_accuracy: 0.5844\n",
            "Epoch 49/100\n",
            "73/73 [==============================] - 6s 79ms/step - loss: 0.0071 - accuracy: 0.9975 - val_loss: 10.8842 - val_accuracy: 0.5870\n",
            "Epoch 50/100\n",
            "73/73 [==============================] - 6s 78ms/step - loss: 0.0133 - accuracy: 0.9964 - val_loss: 11.0530 - val_accuracy: 0.5887\n",
            "Epoch 51/100\n",
            "73/73 [==============================] - 6s 79ms/step - loss: 0.0108 - accuracy: 0.9971 - val_loss: 11.3387 - val_accuracy: 0.5839\n",
            "Epoch 52/100\n",
            "73/73 [==============================] - 6s 79ms/step - loss: 0.0085 - accuracy: 0.9975 - val_loss: 11.1496 - val_accuracy: 0.5874\n",
            "Epoch 53/100\n",
            "73/73 [==============================] - 6s 79ms/step - loss: 0.0093 - accuracy: 0.9979 - val_loss: 11.1575 - val_accuracy: 0.5909\n",
            "Epoch 54/100\n",
            "73/73 [==============================] - 6s 78ms/step - loss: 0.0138 - accuracy: 0.9962 - val_loss: 10.9137 - val_accuracy: 0.5852\n",
            "Epoch 55/100\n",
            "73/73 [==============================] - 6s 78ms/step - loss: 0.0128 - accuracy: 0.9969 - val_loss: 10.3802 - val_accuracy: 0.5826\n",
            "Epoch 56/100\n",
            "73/73 [==============================] - 6s 78ms/step - loss: 0.0137 - accuracy: 0.9962 - val_loss: 10.5578 - val_accuracy: 0.5831\n",
            "Epoch 57/100\n",
            "73/73 [==============================] - 6s 78ms/step - loss: 0.0071 - accuracy: 0.9980 - val_loss: 11.3591 - val_accuracy: 0.5883\n",
            "Epoch 58/100\n",
            "73/73 [==============================] - 6s 78ms/step - loss: 0.0071 - accuracy: 0.9982 - val_loss: 11.1218 - val_accuracy: 0.5857\n",
            "Epoch 59/100\n",
            "73/73 [==============================] - 6s 78ms/step - loss: 0.0110 - accuracy: 0.9972 - val_loss: 11.3654 - val_accuracy: 0.5779\n",
            "Epoch 60/100\n",
            "73/73 [==============================] - 6s 78ms/step - loss: 0.0149 - accuracy: 0.9965 - val_loss: 10.7021 - val_accuracy: 0.5826\n",
            "Epoch 61/100\n",
            "73/73 [==============================] - 6s 78ms/step - loss: 0.0163 - accuracy: 0.9972 - val_loss: 10.2884 - val_accuracy: 0.5879\n",
            "Epoch 62/100\n",
            "73/73 [==============================] - 6s 78ms/step - loss: 0.0126 - accuracy: 0.9967 - val_loss: 10.7039 - val_accuracy: 0.5857\n",
            "Epoch 63/100\n",
            "73/73 [==============================] - 6s 78ms/step - loss: 0.0127 - accuracy: 0.9970 - val_loss: 11.1280 - val_accuracy: 0.5740\n",
            "Epoch 64/100\n",
            "73/73 [==============================] - 6s 78ms/step - loss: 0.0091 - accuracy: 0.9971 - val_loss: 11.3429 - val_accuracy: 0.5779\n",
            "Epoch 65/100\n",
            "73/73 [==============================] - 6s 78ms/step - loss: 0.0110 - accuracy: 0.9972 - val_loss: 10.3356 - val_accuracy: 0.5787\n",
            "Epoch 66/100\n",
            "73/73 [==============================] - 6s 78ms/step - loss: 0.0131 - accuracy: 0.9973 - val_loss: 10.2837 - val_accuracy: 0.5727\n",
            "Epoch 67/100\n",
            "73/73 [==============================] - 6s 79ms/step - loss: 0.0103 - accuracy: 0.9970 - val_loss: 10.3766 - val_accuracy: 0.5839\n",
            "Epoch 68/100\n",
            "73/73 [==============================] - 6s 79ms/step - loss: 0.0119 - accuracy: 0.9969 - val_loss: 11.1186 - val_accuracy: 0.5779\n",
            "Epoch 69/100\n",
            "73/73 [==============================] - 6s 78ms/step - loss: 0.0075 - accuracy: 0.9976 - val_loss: 10.7455 - val_accuracy: 0.5896\n",
            "Epoch 70/100\n",
            "73/73 [==============================] - 6s 79ms/step - loss: 0.0115 - accuracy: 0.9974 - val_loss: 11.0635 - val_accuracy: 0.5800\n",
            "Epoch 71/100\n",
            "73/73 [==============================] - 6s 78ms/step - loss: 0.0057 - accuracy: 0.9977 - val_loss: 10.5732 - val_accuracy: 0.5957\n",
            "Epoch 72/100\n",
            "73/73 [==============================] - 6s 78ms/step - loss: 0.0104 - accuracy: 0.9975 - val_loss: 10.4905 - val_accuracy: 0.5887\n",
            "Epoch 73/100\n",
            "73/73 [==============================] - 6s 78ms/step - loss: 0.0128 - accuracy: 0.9962 - val_loss: 10.6680 - val_accuracy: 0.5831\n",
            "Epoch 74/100\n",
            "73/73 [==============================] - 6s 77ms/step - loss: 0.0089 - accuracy: 0.9975 - val_loss: 11.9168 - val_accuracy: 0.5779\n",
            "Epoch 75/100\n",
            "73/73 [==============================] - 6s 78ms/step - loss: 0.0074 - accuracy: 0.9982 - val_loss: 11.6789 - val_accuracy: 0.5792\n",
            "Epoch 76/100\n",
            "73/73 [==============================] - 6s 78ms/step - loss: 0.0071 - accuracy: 0.9976 - val_loss: 11.6518 - val_accuracy: 0.5826\n",
            "Epoch 77/100\n",
            "73/73 [==============================] - 6s 79ms/step - loss: 0.0134 - accuracy: 0.9973 - val_loss: 11.3576 - val_accuracy: 0.5857\n",
            "Epoch 78/100\n",
            "73/73 [==============================] - 6s 78ms/step - loss: 0.0092 - accuracy: 0.9980 - val_loss: 11.1794 - val_accuracy: 0.5866\n",
            "Epoch 79/100\n",
            "73/73 [==============================] - 6s 78ms/step - loss: 0.0070 - accuracy: 0.9979 - val_loss: 11.4217 - val_accuracy: 0.5852\n",
            "Epoch 80/100\n",
            "73/73 [==============================] - 6s 78ms/step - loss: 0.0138 - accuracy: 0.9966 - val_loss: 12.0380 - val_accuracy: 0.5848\n",
            "Epoch 81/100\n",
            "73/73 [==============================] - 6s 79ms/step - loss: 0.0099 - accuracy: 0.9970 - val_loss: 11.8200 - val_accuracy: 0.5861\n",
            "Epoch 82/100\n",
            "73/73 [==============================] - 6s 79ms/step - loss: 0.0126 - accuracy: 0.9967 - val_loss: 11.0948 - val_accuracy: 0.5970\n",
            "Epoch 83/100\n",
            "73/73 [==============================] - 6s 78ms/step - loss: 0.0071 - accuracy: 0.9976 - val_loss: 12.3627 - val_accuracy: 0.5939\n",
            "Epoch 84/100\n",
            "73/73 [==============================] - 6s 78ms/step - loss: 0.0089 - accuracy: 0.9972 - val_loss: 11.7605 - val_accuracy: 0.5800\n",
            "Epoch 85/100\n",
            "73/73 [==============================] - 6s 78ms/step - loss: 0.0089 - accuracy: 0.9974 - val_loss: 11.4733 - val_accuracy: 0.5822\n",
            "Epoch 86/100\n",
            "73/73 [==============================] - 6s 77ms/step - loss: 0.0067 - accuracy: 0.9976 - val_loss: 11.7548 - val_accuracy: 0.5809\n",
            "Epoch 87/100\n",
            "73/73 [==============================] - 6s 78ms/step - loss: 0.0102 - accuracy: 0.9970 - val_loss: 11.5022 - val_accuracy: 0.5796\n",
            "Epoch 88/100\n",
            "73/73 [==============================] - 6s 78ms/step - loss: 0.0068 - accuracy: 0.9980 - val_loss: 11.2309 - val_accuracy: 0.5839\n",
            "Epoch 89/100\n",
            "73/73 [==============================] - 6s 78ms/step - loss: 0.0077 - accuracy: 0.9976 - val_loss: 11.4111 - val_accuracy: 0.5857\n",
            "Epoch 90/100\n",
            "73/73 [==============================] - 6s 79ms/step - loss: 0.0084 - accuracy: 0.9977 - val_loss: 11.3578 - val_accuracy: 0.5939\n",
            "Epoch 91/100\n",
            "73/73 [==============================] - 6s 78ms/step - loss: 0.0064 - accuracy: 0.9977 - val_loss: 11.7385 - val_accuracy: 0.5718\n",
            "Epoch 92/100\n",
            "73/73 [==============================] - 6s 78ms/step - loss: 0.0080 - accuracy: 0.9984 - val_loss: 11.8617 - val_accuracy: 0.5831\n",
            "Epoch 93/100\n",
            "73/73 [==============================] - 6s 78ms/step - loss: 0.0072 - accuracy: 0.9977 - val_loss: 11.7413 - val_accuracy: 0.5813\n",
            "Epoch 94/100\n",
            "73/73 [==============================] - 6s 78ms/step - loss: 0.0100 - accuracy: 0.9972 - val_loss: 11.9252 - val_accuracy: 0.5922\n",
            "Epoch 95/100\n",
            "73/73 [==============================] - 6s 79ms/step - loss: 0.0113 - accuracy: 0.9975 - val_loss: 12.0012 - val_accuracy: 0.5774\n",
            "Epoch 96/100\n",
            "73/73 [==============================] - 6s 78ms/step - loss: 0.0116 - accuracy: 0.9975 - val_loss: 12.0430 - val_accuracy: 0.5748\n",
            "Epoch 97/100\n",
            "73/73 [==============================] - 6s 79ms/step - loss: 0.0130 - accuracy: 0.9970 - val_loss: 11.2105 - val_accuracy: 0.5813\n",
            "Epoch 98/100\n",
            "73/73 [==============================] - 6s 79ms/step - loss: 0.0141 - accuracy: 0.9976 - val_loss: 10.5189 - val_accuracy: 0.5679\n",
            "Epoch 99/100\n",
            "73/73 [==============================] - 6s 77ms/step - loss: 0.0071 - accuracy: 0.9978 - val_loss: 12.9003 - val_accuracy: 0.5727\n",
            "Epoch 100/100\n",
            "73/73 [==============================] - 6s 79ms/step - loss: 0.0179 - accuracy: 0.9962 - val_loss: 11.3959 - val_accuracy: 0.5857\n"
          ]
        },
        {
          "output_type": "execute_result",
          "data": {
            "text/plain": [
              "<keras.callbacks.History at 0x7fa47db1eb10>"
            ]
          },
          "metadata": {},
          "execution_count": 78
        }
      ]
    },
    {
      "cell_type": "code",
      "source": [
        "X_test = X_test[:1267]\n",
        "Y_test = Y_test[:1267]"
      ],
      "metadata": {
        "id": "DN_yd6AV5uzp"
      },
      "execution_count": null,
      "outputs": []
    },
    {
      "cell_type": "code",
      "source": [
        "test_sequences = tok.texts_to_sequences(X_test)\n",
        "test_sequences_matrix = sequence.pad_sequences(test_sequences,maxlen=max_len)"
      ],
      "metadata": {
        "id": "ZCr0WQB751Fq"
      },
      "execution_count": null,
      "outputs": []
    },
    {
      "cell_type": "code",
      "source": [
        "y_pred = model.predict(test_sequences_matrix)"
      ],
      "metadata": {
        "id": "FGVX2Hlx54vZ"
      },
      "execution_count": null,
      "outputs": []
    },
    {
      "cell_type": "code",
      "source": [
        "y_pred = y_pred.argmax(axis=-1)"
      ],
      "metadata": {
        "id": "nCjO6ihm59PI"
      },
      "execution_count": null,
      "outputs": []
    },
    {
      "cell_type": "code",
      "source": [
        "from sklearn.metrics import classification_report\n",
        "print(classification_report(Y_test.fillna(0), y_pred))"
      ],
      "metadata": {
        "id": "xX-6T7fx6BTD",
        "outputId": "0aa999f1-79eb-43f4-ac13-68ff6bc6cf9a",
        "colab": {
          "base_uri": "https://localhost:8080/"
        }
      },
      "execution_count": null,
      "outputs": [
        {
          "output_type": "stream",
          "name": "stdout",
          "text": [
            "              precision    recall  f1-score   support\n",
            "\n",
            "         0.0       0.35      1.00      0.52       449\n",
            "         1.0       0.00      0.00      0.00       818\n",
            "\n",
            "    accuracy                           0.35      1267\n",
            "   macro avg       0.18      0.50      0.26      1267\n",
            "weighted avg       0.13      0.35      0.19      1267\n",
            "\n"
          ]
        },
        {
          "output_type": "stream",
          "name": "stderr",
          "text": [
            "/usr/local/lib/python3.7/dist-packages/sklearn/metrics/_classification.py:1318: UndefinedMetricWarning: Precision and F-score are ill-defined and being set to 0.0 in labels with no predicted samples. Use `zero_division` parameter to control this behavior.\n",
            "  _warn_prf(average, modifier, msg_start, len(result))\n",
            "/usr/local/lib/python3.7/dist-packages/sklearn/metrics/_classification.py:1318: UndefinedMetricWarning: Precision and F-score are ill-defined and being set to 0.0 in labels with no predicted samples. Use `zero_division` parameter to control this behavior.\n",
            "  _warn_prf(average, modifier, msg_start, len(result))\n",
            "/usr/local/lib/python3.7/dist-packages/sklearn/metrics/_classification.py:1318: UndefinedMetricWarning: Precision and F-score are ill-defined and being set to 0.0 in labels with no predicted samples. Use `zero_division` parameter to control this behavior.\n",
            "  _warn_prf(average, modifier, msg_start, len(result))\n"
          ]
        }
      ]
    }
  ],
  "metadata": {
    "colab": {
      "collapsed_sections": [],
      "name": "fake news detection using BiLSTM",
      "provenance": []
    },
    "kernelspec": {
      "display_name": "Python 3",
      "name": "python3"
    },
    "accelerator": "GPU"
  },
  "nbformat": 4,
  "nbformat_minor": 0
}